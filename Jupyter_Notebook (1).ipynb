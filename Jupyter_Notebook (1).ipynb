{
 "cells": [
  {
   "cell_type": "markdown",
   "metadata": {},
   "source": [
    "<center>\n",
    "    <img src=\"https://cf-courses-data.s3.us.cloud-object-storage.appdomain.cloud/IBMDeveloperSkillsNetwork-DS0105EN-SkillsNetwork/labs/Module2/images/SN_web_lightmode.png\" width=\"300\" alt=\"cognitiveclass.ai logo\">\n",
    "</center>\n"
   ]
  },
  {
   "cell_type": "markdown",
   "metadata": {},
   "source": [
    "#### Add your code below following the instructions given in the course\n"
   ]
  },
  {
   "cell_type": "markdown",
   "metadata": {},
   "source": [
    "# Peer-graded Assignment: Tools for Data Science"
   ]
  },
  {
   "cell_type": "markdown",
   "metadata": {},
   "source": [
    "This project has 25 exercises and the aim its to create a jupyter notebook and share it on GitHub"
   ]
  },
  {
   "cell_type": "markdown",
   "metadata": {},
   "source": [
    "The most common data science programming languages are:\n",
    "\n",
    "* python\n",
    "* R \n",
    "* Julia\n",
    "* Java\n",
    "* C++\n",
    "* JavaScript"
   ]
  },
  {
   "cell_type": "markdown",
   "metadata": {},
   "source": [
    "The most common data science libraries for Python language are:\n",
    "* Skitlearn\n",
    "* NumpPy\n",
    "* Pandas\n",
    "* Matplotlib\n",
    "* OpenCv\n",
    "\n",
    "And many others"
   ]
  },
  {
   "cell_type": "markdown",
   "metadata": {
    "tags": []
   },
   "source": [
    "There are many Data Science tools, the most common are: \n",
    "\n",
    "| commercial | Open source |\n",
    "| --------- | ----------|\n",
    "| Oracle | MySql |\n",
    "| Ibm2 | Apache Spark |\n",
    "| Tableu | Tensor flow |\n",
    "| PowerBi | Apache Flink |\n",
    "\n",
    "There are many others tools in each stage of Data pipeline. Since gathering data to visualize to build model"
   ]
  },
  {
   "cell_type": "markdown",
   "metadata": {},
   "source": [
    "This is an Example of aritmetic expression:\n",
    "\n",
    "  sum = 5 + 50\n",
    "  product = 5*50\n",
    "  \n",
    "  "
   ]
  },
  {
   "cell_type": "code",
   "execution_count": 4,
   "metadata": {
    "tags": []
   },
   "outputs": [
    {
     "name": "stdout",
     "output_type": "stream",
     "text": [
      "55\n",
      "250\n"
     ]
    }
   ],
   "source": [
    "x = 5\n",
    "y = 50\n",
    "\n",
    "sum_ = x + y\n",
    "product_ = x * y\n",
    "\n",
    "print(sum_)\n",
    "print(product_)\n",
    "\n"
   ]
  },
  {
   "cell_type": "code",
   "execution_count": 6,
   "metadata": {
    "tags": []
   },
   "outputs": [
    {
     "name": "stdout",
     "output_type": "stream",
     "text": [
      "0.8333333333333334\n"
     ]
    }
   ],
   "source": [
    "minute = 50\n",
    "minute_per_hour = 60\n",
    "\n",
    "Hours= minute / minute_per_hour\n",
    "print(Hours)"
   ]
  },
  {
   "cell_type": "markdown",
   "metadata": {},
   "source": [
    "The Objectives are: \n",
    "- Create Jupyter notebook \n",
    "- share on Github\n"
   ]
  },
  {
   "cell_type": "markdown",
   "metadata": {},
   "source": [
    "Author name: **Ettore Ponzio_"
   ]
  },
  {
   "cell_type": "code",
   "execution_count": null,
   "metadata": {},
   "outputs": [],
   "source": []
  }
 ],
 "metadata": {
  "kernelspec": {
   "display_name": "Python",
   "language": "python",
   "name": "conda-env-python-py"
  },
  "language_info": {
   "codemirror_mode": {
    "name": "ipython",
    "version": 3
   },
   "file_extension": ".py",
   "mimetype": "text/x-python",
   "name": "python",
   "nbconvert_exporter": "python",
   "pygments_lexer": "ipython3",
   "version": "3.7.12"
  }
 },
 "nbformat": 4,
 "nbformat_minor": 4
}
